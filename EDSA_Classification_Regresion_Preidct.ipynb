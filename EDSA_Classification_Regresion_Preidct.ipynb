{
 "cells": [
  {
   "cell_type": "markdown",
   "id": "1c34dcb6",
   "metadata": {
    "id": "1c34dcb6"
   },
   "source": [
    "## Climate Change Sentiment Analysis"
   ]
  },
  {
   "cell_type": "markdown",
   "id": "c950a384",
   "metadata": {},
   "source": [
    "## Table of contents\n",
    "\n",
    "1. Climate Change Sentiment Analysis\n",
    "    - Introduction \n",
    "    - Import library\n",
    "2. Exploratory Data Analysis\n",
    "3. Text Preprocessing\n",
    "    - Noise Removal\n",
    "    - Lexicon Normalization\n",
    "4. Dealing with Class Imbalance\n",
    "5. Feature Engineering on text data\n",
    "6. Building Machine Learning Models\n",
    "    - Logistic Regression Classifier\n",
    "    - Random Forest Classifier\n",
    "    - Decision Tree Classifier\n",
    "    - Support Vector Classifier\n",
    "7. Compare and choose the best model\n",
    "8. Kaggle submission\n",
    "7. Saving a model with Pickle"
   ]
  },
  {
   "cell_type": "markdown",
   "id": "e4b43f4f",
   "metadata": {},
   "source": [
    "### Introduction\n",
    "\n",
    "Climate change is a phenomenon that is caused by a long-term alteration of global or regional climate patterns due to human activities. Burning fossil fuels release greenhouse gases that trap the sun's heat and cause the planet's temperature to rise. This could be worse unless further action is taken. however, many companies and governments are on the quest to reduce the carbon footprint by improving on thier products. To do this organizations needs insights from the customers by analysing thier data.\n",
    "\n",
    "Social media is one of the go to places for data mining. Twitter is the best platform with the topics related to climate change for data mining. Text analytics is a method of analysing unstructured data in order to find trends or predict popular sentiments, which can assist organisations in making decisions.\n",
    "\n",
    "The goal of this project is to build a machine learning model to predict sentiment of tweets on twitter in order to determine how people perceive climate change and whether or not they believe it is a real threat."
   ]
  },
  {
   "cell_type": "markdown",
   "id": "40738803",
   "metadata": {},
   "source": [
    "### Import  libraries"
   ]
  },
  {
   "cell_type": "code",
   "execution_count": 1,
   "id": "3a5eb947",
   "metadata": {
    "colab": {
     "base_uri": "https://localhost:8080/"
    },
    "id": "3a5eb947",
    "outputId": "c1d3bc85-be90-42a5-b1f1-d0f6b8f68025",
    "scrolled": true
   },
   "outputs": [],
   "source": [
    "# libraries for data manupulation\n",
    "\n",
    "import numpy as np\n",
    "import pandas as pd\n",
    "\n",
    "# regular expression \n",
    "import re\n",
    "\n",
    "# libraries for Visualization \n",
    "import matplotlib.pyplot as plt\n",
    "import seaborn as sns\n",
    "%matplotlib inline\n",
    "# from wordcloud import WordCloud\n",
    "\n",
    "# Natural Language ToolKit (nltk) for data preprocessing.\n",
    "import nltk\n",
    "from nltk import TreebankWordTokenizer, SnowballStemmer\n",
    "from nltk.stem import WordNetLemmatizer\n",
    "from nltk.corpus import stopwords\n",
    "from sklearn.utils import resample\n",
    "from sklearn.feature_extraction.text import TfidfVectorizer\n",
    "\n",
    "\n",
    "# nltk.download('wordnet')\n",
    "# nltk.download('stopwords')\n",
    "# nltk.download('omw-1.4')\n",
    "\n",
    "# libraries for building classification models\n",
    "from sklearn import svm\n",
    "from sklearn import preprocessing\n",
    "from sklearn import feature_selection\n",
    "from sklearn.tree import DecisionTreeClassifier\n",
    "from sklearn.linear_model import LogisticRegression\n",
    "from sklearn.ensemble import RandomForestClassifier\n",
    "from sklearn.model_selection import GridSearchCV\n",
    "from sklearn.model_selection import train_test_split\n",
    "\n",
    "#libraries for model evaluation\n",
    "import time\n",
    "from sklearn.metrics import f1_score\n",
    "from sklearn.metrics import accuracy_score\n",
    "from sklearn.metrics import precision_score\n",
    "from sklearn.metrics import classification_report\n",
    "\n",
    "#library to save the model\n",
    "import pickle\n",
    "\n",
    "import warnings\n",
    "warnings.filterwarnings(\"ignore\")"
   ]
  },
  {
   "cell_type": "code",
   "execution_count": 2,
   "id": "426e60d0",
   "metadata": {
    "id": "426e60d0"
   },
   "outputs": [],
   "source": [
    "# defining stopwords variable\n",
    "stopwords = stopwords.words('english')"
   ]
  },
  {
   "cell_type": "code",
   "execution_count": 3,
   "id": "ZcLj4GTaYbZZ",
   "metadata": {
    "id": "ZcLj4GTaYbZZ"
   },
   "outputs": [],
   "source": [
    "# from google.colab import files\n",
    "# uploaded = files.upload()"
   ]
  },
  {
   "cell_type": "code",
   "execution_count": 4,
   "id": "147e8160",
   "metadata": {
    "id": "147e8160"
   },
   "outputs": [],
   "source": [
    "#load the data \n",
    "train_df = pd.read_csv('train.csv')\n",
    "test_df = pd.read_csv('test_with_no_labels.csv')"
   ]
  },
  {
   "cell_type": "markdown",
   "id": "6uC3uYgPKKaF",
   "metadata": {
    "id": "6uC3uYgPKKaF"
   },
   "source": [
    "## Exploratory Data Analysis\n",
    "\n",
    "The first thing to do is exploring the dataset to discover the trends and patterns, and whether the dataset is a binary or multi-dimensional classification since the goal is to classify text into different categories or sentiments. This is also helpful for the pre-processing phase to determine what to remove as noise and what to keep."
   ]
  },
  {
   "cell_type": "code",
   "execution_count": 5,
   "id": "5f52b93c",
   "metadata": {
    "colab": {
     "base_uri": "https://localhost:8080/",
     "height": 206
    },
    "id": "5f52b93c",
    "outputId": "337a82ec-c67e-4cf4-abb8-634c3436cc5a"
   },
   "outputs": [
    {
     "data": {
      "text/html": [
       "<div>\n",
       "<style scoped>\n",
       "    .dataframe tbody tr th:only-of-type {\n",
       "        vertical-align: middle;\n",
       "    }\n",
       "\n",
       "    .dataframe tbody tr th {\n",
       "        vertical-align: top;\n",
       "    }\n",
       "\n",
       "    .dataframe thead th {\n",
       "        text-align: right;\n",
       "    }\n",
       "</style>\n",
       "<table border=\"1\" class=\"dataframe\">\n",
       "  <thead>\n",
       "    <tr style=\"text-align: right;\">\n",
       "      <th></th>\n",
       "      <th>sentiment</th>\n",
       "      <th>message</th>\n",
       "      <th>tweetid</th>\n",
       "    </tr>\n",
       "  </thead>\n",
       "  <tbody>\n",
       "    <tr>\n",
       "      <th>0</th>\n",
       "      <td>1</td>\n",
       "      <td>PolySciMajor EPA chief doesn't think carbon di...</td>\n",
       "      <td>625221</td>\n",
       "    </tr>\n",
       "    <tr>\n",
       "      <th>1</th>\n",
       "      <td>1</td>\n",
       "      <td>It's not like we lack evidence of anthropogeni...</td>\n",
       "      <td>126103</td>\n",
       "    </tr>\n",
       "    <tr>\n",
       "      <th>2</th>\n",
       "      <td>2</td>\n",
       "      <td>RT @RawStory: Researchers say we have three ye...</td>\n",
       "      <td>698562</td>\n",
       "    </tr>\n",
       "    <tr>\n",
       "      <th>3</th>\n",
       "      <td>1</td>\n",
       "      <td>#TodayinMaker# WIRED : 2016 was a pivotal year...</td>\n",
       "      <td>573736</td>\n",
       "    </tr>\n",
       "    <tr>\n",
       "      <th>4</th>\n",
       "      <td>1</td>\n",
       "      <td>RT @SoyNovioDeTodas: It's 2016, and a racist, ...</td>\n",
       "      <td>466954</td>\n",
       "    </tr>\n",
       "  </tbody>\n",
       "</table>\n",
       "</div>"
      ],
      "text/plain": [
       "   sentiment                                            message  tweetid\n",
       "0          1  PolySciMajor EPA chief doesn't think carbon di...   625221\n",
       "1          1  It's not like we lack evidence of anthropogeni...   126103\n",
       "2          2  RT @RawStory: Researchers say we have three ye...   698562\n",
       "3          1  #TodayinMaker# WIRED : 2016 was a pivotal year...   573736\n",
       "4          1  RT @SoyNovioDeTodas: It's 2016, and a racist, ...   466954"
      ]
     },
     "execution_count": 5,
     "metadata": {},
     "output_type": "execute_result"
    }
   ],
   "source": [
    "# Get familiar with train data\n",
    "train_df.head()"
   ]
  },
  {
   "cell_type": "markdown",
   "id": "3f6f514d",
   "metadata": {
    "id": "3f6f514d"
   },
   "source": [
    "The data has three columns `sentiment` (int64), `message` (object) and `tweetid` (int64). This is confirmed by running the cell bellow"
   ]
  },
  {
   "cell_type": "code",
   "execution_count": 6,
   "id": "e0e58738",
   "metadata": {
    "id": "e0e58738",
    "outputId": "ae2caafb-d03e-4794-819f-db0522d4a660"
   },
   "outputs": [
    {
     "name": "stdout",
     "output_type": "stream",
     "text": [
      "<class 'pandas.core.frame.DataFrame'>\n",
      "RangeIndex: 15819 entries, 0 to 15818\n",
      "Data columns (total 3 columns):\n",
      " #   Column     Non-Null Count  Dtype \n",
      "---  ------     --------------  ----- \n",
      " 0   sentiment  15819 non-null  int64 \n",
      " 1   message    15819 non-null  object\n",
      " 2   tweetid    15819 non-null  int64 \n",
      "dtypes: int64(2), object(1)\n",
      "memory usage: 370.9+ KB\n"
     ]
    }
   ],
   "source": [
    "train_df.info()"
   ]
  },
  {
   "cell_type": "code",
   "execution_count": 7,
   "id": "321601f4",
   "metadata": {},
   "outputs": [
    {
     "data": {
      "text/plain": [
       "sentiment    0\n",
       "message      0\n",
       "tweetid      0\n",
       "dtype: int64"
      ]
     },
     "execution_count": 7,
     "metadata": {},
     "output_type": "execute_result"
    }
   ],
   "source": [
    "train_df.isnull().sum()"
   ]
  },
  {
   "cell_type": "markdown",
   "id": "4d7682f7",
   "metadata": {
    "id": "4d7682f7"
   },
   "source": [
    "The data does not have missing values and has 15819 row with 3 columns"
   ]
  },
  {
   "cell_type": "code",
   "execution_count": 8,
   "id": "132cc6b8",
   "metadata": {
    "colab": {
     "base_uri": "https://localhost:8080/"
    },
    "id": "132cc6b8",
    "outputId": "840e0945-9995-41f6-8e23-6787edb6e2dd"
   },
   "outputs": [
    {
     "data": {
      "text/plain": [
       "[1, 2, 0, -1]"
      ]
     },
     "execution_count": 8,
     "metadata": {},
     "output_type": "execute_result"
    }
   ],
   "source": [
    "# Unique sentiments\n",
    "unique_sentiment = list(train_df['sentiment'].unique())\n",
    "unique_sentiment"
   ]
  },
  {
   "cell_type": "markdown",
   "id": "G47IuQMwNt4V",
   "metadata": {
    "id": "G47IuQMwNt4V"
   },
   "source": [
    "There are four unique sentiments in the sentiment column which are classified as follow:\n",
    "\n",
    " - $1:$ Pro - the tweet supports the belief of man-made climate cahnge \n",
    " - $2:$ News - the tweet link to factual news about climate change\n",
    " - $0:$ Neutral - the tweet neither supports nor refuses the belief of man-made climate change \n",
    " - $-1:$ Anti - the tweet does not believe in man-made climate change. "
   ]
  },
  {
   "cell_type": "code",
   "execution_count": 9,
   "id": "6e72184e",
   "metadata": {
    "colab": {
     "base_uri": "https://localhost:8080/"
    },
    "id": "6e72184e",
    "outputId": "e6b9743e-a03d-4a7d-ff22-ea03f82e4ee4"
   },
   "outputs": [
    {
     "data": {
      "text/plain": [
       " 1    8530\n",
       " 2    3640\n",
       " 0    2353\n",
       "-1    1296\n",
       "Name: sentiment, dtype: int64"
      ]
     },
     "execution_count": 9,
     "metadata": {},
     "output_type": "execute_result"
    }
   ],
   "source": [
    "# check the frequency of each sentiment in the dataset\n",
    "train_df['sentiment'].value_counts()"
   ]
  },
  {
   "cell_type": "markdown",
   "id": "MFvwBpOPQFLP",
   "metadata": {
    "id": "MFvwBpOPQFLP"
   },
   "source": [
    "There is a large number of tweets about 8530 for sentiment $1$(Pro), that means there are more people supporting the man-made climate change followed by tweet that link to factual news (sentiment $2$). Below is the visualization of the sentiments using histogram."
   ]
  },
  {
   "cell_type": "code",
   "execution_count": 10,
   "id": "5417db1a",
   "metadata": {
    "colab": {
     "base_uri": "https://localhost:8080/",
     "height": 430
    },
    "id": "5417db1a",
    "outputId": "b33f5a27-e171-4f1d-a014-f335fa470e2c"
   },
   "outputs": [
    {
     "data": {
      "image/png": "[encoded data removed]",
      "text/plain": [
       "<Figure size 640x480 with 1 Axes>"
      ]
     },
     "metadata": {},
     "output_type": "display_data"
    }
   ],
   "source": [
    "# The count of each sentiment on the data\n",
    "train_df['sentiment'].value_counts().sort_index().plot(kind='bar')\n",
    "plt.show()"
   ]
  },
  {
   "cell_type": "code",
   "execution_count": 11,
   "id": "3120f620",
   "metadata": {},
   "outputs": [
    {
     "data": {
      "text/plain": [
       "(10546, 2)"
      ]
     },
     "execution_count": 11,
     "metadata": {},
     "output_type": "execute_result"
    }
   ],
   "source": [
    "test_df.shape"
   ]
  },
  {
   "cell_type": "markdown",
   "id": "09bbf802",
   "metadata": {
    "id": "09bbf802"
   },
   "source": [
    "The distribution of the plot above is more skewed towards the positive side of the climate change sentiments and it also reveals what is called class imbalance, a problem that needs to be taken care of later before building a model. Class imbalance will results in high accuracy score for the Pro sentiment compared to other sentimemts which would result in a poor performing model as it would not predict well the tweets that do not fully support man-made climate change. "
   ]
  },
  {
   "cell_type": "markdown",
   "id": "n-45YE4MXTEe",
   "metadata": {
    "id": "n-45YE4MXTEe"
   },
   "source": [
    "# Text Preprocessing \n",
    "Looking again at the data but this time on the tweets column since text is one of the unstructured data and most of the times it includes various types of noise which makes the data not readily analyzable without any cleaning.\n",
    "\n",
    "Data cleaning can be done in two steps:\n",
    " - Noise Removal (stopwords, URLs, punctuations & mentions etc)\n",
    " - Lexicon Normalization (Stemming & Lemmatization)"
   ]
  },
  {
   "cell_type": "code",
   "execution_count": 12,
   "id": "F-CWd8lOVv3S",
   "metadata": {
    "colab": {
     "base_uri": "https://localhost:8080/"
    },
    "id": "F-CWd8lOVv3S",
    "outputId": "0b781423-231b-4c94-a23e-f640d1fa53aa"
   },
   "outputs": [
    {
     "name": "stdout",
     "output_type": "stream",
     "text": [
      "Hey There! Michael's vetted and approved market-based strategies for tackling climate change are supported by a majority of Cdns! #cdnpoli\n",
      "Sally Kohn’s latest evidence of climate change proves she is ‘not a smart person’ https://t.co/MhkzoGL9Vt via @twitchyteam Need we say more\n",
      "RT @StarTalkRadio: First: The public understands climate change better than Congress. Why? #JohnHoldren @CoryBooker @neiltyson explain: htt…\n"
     ]
    }
   ],
   "source": [
    "# Subset of the tweets from the data\n",
    "for t in train_df['message'][27:30]:\n",
    "    print(t)"
   ]
  },
  {
   "cell_type": "markdown",
   "id": "lU9omxaBd9Dk",
   "metadata": {
    "id": "lU9omxaBd9Dk"
   },
   "source": [
    "### Noise Removal\n",
    "The subset of the tweets above shows that there are URLs, punctuations, mentions, hashtags and stopwords etc that are not needed. The function bellow will remove all this noise."
   ]
  },
  {
   "cell_type": "code",
   "execution_count": 13,
   "id": "XlRLbtqBVvqN",
   "metadata": {
    "id": "XlRLbtqBVvqN"
   },
   "outputs": [],
   "source": [
    "def clean_text(text):\n",
    "    \n",
    "    \"\"\"The funtion will at once remove URL's and replace with http followed by removing any mentions and hashtags,\n",
    "    any number from the text and the retweets(RT) with extra spaces\"\"\"\n",
    "    \n",
    "    text = re.sub(r'http[s]?://(?:[A-Za-z]|[0-9]|[$-_@.&+]|[!*\\(\\),]|(?:%[0-9A-Fa-f][0-9A-Fa-f]))+', r'http', text)\n",
    "    text = re.sub(r\"[@#][\\w]*\", '', text) # remove any mentions and hashtags\n",
    "    text = re.sub(r'[^a-zA-Z]', ' ', text) # remove any number from the text\n",
    "    text = re.sub(r'RT', '', text) # remove any RT\n",
    "    text = re.sub(r'\\s\\s+', ' ', text) # remove extra spaces\n",
    "    return text"
   ]
  },
  {
   "cell_type": "code",
   "execution_count": 14,
   "id": "jortxuGfjnfo",
   "metadata": {
    "id": "jortxuGfjnfo"
   },
   "outputs": [],
   "source": [
    "# apply the function to the whole dataset\n",
    "train_df['message'] = train_df['message'].apply(clean_text)"
   ]
  },
  {
   "cell_type": "code",
   "execution_count": 15,
   "id": "1w1HUu1Fj1kn",
   "metadata": {
    "colab": {
     "base_uri": "https://localhost:8080/"
    },
    "id": "1w1HUu1Fj1kn",
    "outputId": "e71595cc-d2e5-4ba6-8eec-aef79611886f"
   },
   "outputs": [
    {
     "name": "stdout",
     "output_type": "stream",
     "text": [
      "Hey There Michael s vetted and approved market based strategies for tackling climate change are supported by a majority of Cdns \n",
      "Sally Kohn s latest evidence of climate change proves she is not a smart person http via Need we say more\n",
      " First The public understands climate change better than Congress Why explain htt \n"
     ]
    }
   ],
   "source": [
    "# cleaned subset of the tweets\n",
    "for t in train_df['message'][27:30]:\n",
    "    print(t)"
   ]
  },
  {
   "cell_type": "markdown",
   "id": "twvkkwVnnoRF",
   "metadata": {
    "id": "twvkkwVnnoRF"
   },
   "source": [
    "All the noise is removed succesfully except for the stopwords which will be removed in the next step."
   ]
  },
  {
   "cell_type": "markdown",
   "id": "5P8owxdBqa3O",
   "metadata": {
    "id": "5P8owxdBqa3O"
   },
   "source": [
    "### Lexicon Normalization\n",
    "\n",
    "In english there are many single words that differ in meaning but contextually all are simmilar. These word if not handled correctly can affect the perfomance of the ML model, hence it is important to convert disparities of a word into their normalized form also known as lemma. This way ML model would be improved as high dimensional features are reduced to low dimensional features.\n",
    "\n",
    "Normalization is done through:\n",
    " - Stemming: stemming is a process of stripping the suffixes from a word.\n",
    " - Lemmatization: It is an organized and step by step procedure of obtaining the root form of the word.\n",
    " \n",
    "\n",
    "Below is the code that will remove the stopwords and lemmatize and tokenize the text"
   ]
  },
  {
   "cell_type": "code",
   "execution_count": 16,
   "id": "wPjWJKLGqCLD",
   "metadata": {
    "id": "wPjWJKLGqCLD"
   },
   "outputs": [],
   "source": [
    "def text_to_tokens(text):\n",
    "    \n",
    "    \"\"\"This function tokenizes the text using TreeBankWordTokenizer and convert the tokens into lowercase, \n",
    "    lemmatize the text and removes stopwords\"\"\"\n",
    "    \n",
    "    # text to tokens\n",
    "    tokenizer = TreebankWordTokenizer() # instantiate tokenizer object\n",
    "    tokens = tokenizer.tokenize(text) # tokenize the text\n",
    "    tokens_lower = [t.lower() for t in tokens] # converting all the tokens to lowercase\n",
    "    \n",
    "    # lemmatizing the text\n",
    "    lemmatizer = WordNetLemmatizer() # instantiate lemmatizer object\n",
    "    lemmatise = [lemmatizer.lemmatize(t) for t in tokens_lower] # lemmatize each word in the list of tokens\n",
    "    useful_tokens = [t for t in lemmatise if t not in stopwords] # removes all the stopwords\n",
    "    \n",
    "    return useful_tokens"
   ]
  },
  {
   "cell_type": "code",
   "execution_count": 17,
   "id": "EYjeoDdr7nLI",
   "metadata": {
    "colab": {
     "base_uri": "https://localhost:8080/"
    },
    "id": "EYjeoDdr7nLI",
    "outputId": "edff9682-f0f1-440b-ba66-f4eb352b4d54"
   },
   "outputs": [],
   "source": [
    "# apply the function to the whole dataset\n",
    "train_df['message'] = train_df['message'].apply(text_to_tokens)"
   ]
  },
  {
   "cell_type": "code",
   "execution_count": 18,
   "id": "L-cfAyliqCEb",
   "metadata": {
    "id": "L-cfAyliqCEb"
   },
   "outputs": [],
   "source": [
    "# converting tokens in each tweet into a sentance\n",
    "train_df['message'] = train_df['message'].apply(lambda x: \" \".join(x))"
   ]
  },
  {
   "cell_type": "code",
   "execution_count": 19,
   "id": "zr_uDHW8qB-D",
   "metadata": {
    "colab": {
     "base_uri": "https://localhost:8080/"
    },
    "id": "zr_uDHW8qB-D",
    "outputId": "f08171e5-8107-4a57-9d12-05a4dcc09101"
   },
   "outputs": [
    {
     "data": {
      "text/plain": [
       "0    polyscimajor epa chief think carbon dioxide ma...\n",
       "1      like lack evidence anthropogenic global warming\n",
       "2    researcher say three year act climate change l...\n",
       "3        wired wa pivotal year war climate change http\n",
       "4    racist sexist climate change denying bigot lea...\n",
       "Name: message, dtype: object"
      ]
     },
     "execution_count": 19,
     "metadata": {},
     "output_type": "execute_result"
    }
   ],
   "source": [
    "# cleaned train dataset\n",
    "train_df['message'].head()"
   ]
  },
  {
   "cell_type": "code",
   "execution_count": 20,
   "id": "88pKYueUMjdc",
   "metadata": {
    "id": "88pKYueUMjdc"
   },
   "outputs": [],
   "source": [
    "# Cleaning the test dataset\n",
    "test_df['message'] = test_df['message'].apply(clean_text)\n",
    "test_df['message'] = test_df['message'].apply(text_to_tokens)\n",
    "test_df['message'] = test_df['message'].apply(lambda x: \" \".join(x))"
   ]
  },
  {
   "cell_type": "code",
   "execution_count": 21,
   "id": "0s67h1OVNYz7",
   "metadata": {
    "colab": {
     "base_uri": "https://localhost:8080/",
     "height": 206
    },
    "id": "0s67h1OVNYz7",
    "outputId": "a4f688f5-b1c0-4c24-e4f8-1c435215b591"
   },
   "outputs": [
    {
     "data": {
      "text/html": [
       "<div>\n",
       "<style scoped>\n",
       "    .dataframe tbody tr th:only-of-type {\n",
       "        vertical-align: middle;\n",
       "    }\n",
       "\n",
       "    .dataframe tbody tr th {\n",
       "        vertical-align: top;\n",
       "    }\n",
       "\n",
       "    .dataframe thead th {\n",
       "        text-align: right;\n",
       "    }\n",
       "</style>\n",
       "<table border=\"1\" class=\"dataframe\">\n",
       "  <thead>\n",
       "    <tr style=\"text-align: right;\">\n",
       "      <th></th>\n",
       "      <th>message</th>\n",
       "      <th>tweetid</th>\n",
       "    </tr>\n",
       "  </thead>\n",
       "  <tbody>\n",
       "    <tr>\n",
       "      <th>0</th>\n",
       "      <td>europe looking china make sure alone fighting ...</td>\n",
       "      <td>169760</td>\n",
       "    </tr>\n",
       "    <tr>\n",
       "      <th>1</th>\n",
       "      <td>combine polling staffer climate change woman r...</td>\n",
       "      <td>35326</td>\n",
       "    </tr>\n",
       "    <tr>\n",
       "      <th>2</th>\n",
       "      <td>scary unimpeachable evidence climate change al...</td>\n",
       "      <td>224985</td>\n",
       "    </tr>\n",
       "    <tr>\n",
       "      <th>3</th>\n",
       "      <td>putin got jill trump believe climate change th...</td>\n",
       "      <td>476263</td>\n",
       "    </tr>\n",
       "    <tr>\n",
       "      <th>4</th>\n",
       "      <td>female orgasm cause global warming sarcastic r...</td>\n",
       "      <td>872928</td>\n",
       "    </tr>\n",
       "  </tbody>\n",
       "</table>\n",
       "</div>"
      ],
      "text/plain": [
       "                                             message  tweetid\n",
       "0  europe looking china make sure alone fighting ...   169760\n",
       "1  combine polling staffer climate change woman r...    35326\n",
       "2  scary unimpeachable evidence climate change al...   224985\n",
       "3  putin got jill trump believe climate change th...   476263\n",
       "4  female orgasm cause global warming sarcastic r...   872928"
      ]
     },
     "execution_count": 21,
     "metadata": {},
     "output_type": "execute_result"
    }
   ],
   "source": [
    "# cleaned test dataset\n",
    "test_df.head()"
   ]
  },
  {
   "cell_type": "markdown",
   "id": "i2IBAwZpbkMW",
   "metadata": {
    "id": "i2IBAwZpbkMW"
   },
   "source": [
    "The \"message\" column is now transformed and contains only the words that are useful for the climate change sentiment analysis"
   ]
  },
  {
   "cell_type": "markdown",
   "id": "OHirLPU6XV6P",
   "metadata": {
    "id": "OHirLPU6XV6P"
   },
   "source": [
    "# Dealing with Class Imbalance\n",
    "Previously it was observed that the class labels in the \"sentiment\" column are not evenly distributed and that they need to be equalized using resampling technique which works by modifying the number of observation in each class. Manority class is upsampled by duplicating the number of observations at random and majority class downsampled by taking the subset of the observations to match the number of observations in the minority class."
   ]
  },
  {
   "cell_type": "code",
   "execution_count": 22,
   "id": "loeIcl0Seegj",
   "metadata": {
    "colab": {
     "base_uri": "https://localhost:8080/"
    },
    "id": "loeIcl0Seegj",
    "outputId": "66cfbf38-ebd0-42cc-87f9-749aff3e323f"
   },
   "outputs": [
    {
     "name": "stdout",
     "output_type": "stream",
     "text": [
      "4265\n"
     ]
    }
   ],
   "source": [
    "# number of observations to match for both manority and majority classes\n",
    "n = len(train_df[train_df['sentiment'] == 1])//2\n",
    "print(n)"
   ]
  },
  {
   "cell_type": "code",
   "execution_count": 23,
   "id": "0psX19xjeeKE",
   "metadata": {
    "id": "0psX19xjeeKE"
   },
   "outputs": [],
   "source": [
    "# Resampling the class labels to make them evenly distributed\n",
    "\n",
    "neg_sent_upsampled = resample(train_df[train_df['sentiment'] == -1], # sample with replacement to duplicate observations\n",
    "                                       replace=True, \n",
    "                                       n_samples=n, \n",
    "                                       random_state=27)\n",
    "\n",
    "neu_sent_upsampled = resample(train_df[train_df['sentiment'] == 0], # sample with replacement to duplicate observations\n",
    "                                       replace=True, \n",
    "                                       n_samples=n, \n",
    "                                       random_state=27)\n",
    "\n",
    "pos_sent_downsampled = resample(train_df[train_df['sentiment'] == 1], # sample without replacement to match number in minority class\n",
    "                                       replace=False, \n",
    "                                       n_samples=n, \n",
    "                                       random_state=27)\n",
    "\n",
    "news_sent_upsampled = resample(train_df[train_df['sentiment'] == 2], # sample with replacement to duplicate observationsv\n",
    "                                       replace=True, \n",
    "                                       n_samples=n, \n",
    "                                       random_state=27)\n",
    "\n",
    "# Combining new class counts\n",
    "new_df = pd.concat([neg_sent_upsampled, neu_sent_upsampled, pos_sent_downsampled, news_sent_upsampled])\n",
    "\n",
    "# new_df['sentiment'].head()"
   ]
  },
  {
   "cell_type": "code",
   "execution_count": 24,
   "id": "cufyTrUVklB_",
   "metadata": {
    "colab": {
     "base_uri": "https://localhost:8080/",
     "height": 430
    },
    "id": "cufyTrUVklB_",
    "outputId": "98409b72-2a51-47b7-e647-e81ac2159fd2"
   },
   "outputs": [
    {
     "data": {
      "image/png": "[encoded data removed]",
      "text/plain": [
       "<Figure size 640x480 with 1 Axes>"
      ]
     },
     "metadata": {},
     "output_type": "display_data"
    }
   ],
   "source": [
    "# resampled dataset \n",
    "new_df['sentiment'].value_counts().sort_index().plot(kind='bar')\n",
    "plt.show()"
   ]
  },
  {
   "cell_type": "markdown",
   "id": "Jaiy9bH0cyUA",
   "metadata": {
    "id": "Jaiy9bH0cyUA"
   },
   "source": [
    "The new dataset contains the classes that are evenly distributed"
   ]
  },
  {
   "cell_type": "markdown",
   "id": "QaaI2vbPeinR",
   "metadata": {
    "id": "QaaI2vbPeinR"
   },
   "source": [
    "# Feature Engineering on text data\n",
    "\n",
    "Vectorization in classification is a process of converting preprocessed data to features in the form of numerical vectors for the machine learning algorithm to process the data. There are many techniques that can be used to vectorize the text into features but for this project, statistical features technique will be used."
   ]
  },
  {
   "cell_type": "code",
   "execution_count": 25,
   "id": "f38b167c",
   "metadata": {},
   "outputs": [],
   "source": [
    "def vectorize_data(train, test):\n",
    "    \n",
    "    vectorizer = TfidfVectorizer() # instantiate vectorizer object\n",
    "    train_data = vectorizer.fit_transform(train) # fitting the train data\n",
    "    test_data = vectorizer.transform(test) # fitting the test data\n",
    "    \n",
    "    return train_data, test_data, vectorizer"
   ]
  },
  {
   "cell_type": "code",
   "execution_count": 26,
   "id": "996e8b57",
   "metadata": {},
   "outputs": [],
   "source": [
    "# vectorizing both the test and train dataset using the defined function\n",
    "train_data, test_data, vectorizer = vectorize_data(new_df['message'], test_df['message'])"
   ]
  },
  {
   "cell_type": "code",
   "execution_count": 27,
   "id": "0ddaf023",
   "metadata": {},
   "outputs": [
    {
     "data": {
      "text/plain": [
       "((17060, 10157), (10546, 10157))"
      ]
     },
     "execution_count": 27,
     "metadata": {},
     "output_type": "execute_result"
    }
   ],
   "source": [
    "# check the shape of the dataset\n",
    "train_data.shape, test_data.shape"
   ]
  },
  {
   "cell_type": "code",
   "execution_count": 28,
   "id": "ddc1670f",
   "metadata": {},
   "outputs": [
    {
     "name": "stdout",
     "output_type": "stream",
     "text": [
      "accuse\n",
      "accused\n",
      "accuses\n",
      "accusing\n",
      "ace\n",
      "acha\n",
      "achievable\n",
      "achieve\n",
      "achieved\n",
      "achieving\n"
     ]
    }
   ],
   "source": [
    "# print the first few features \n",
    "feature_names = vectorizer.get_feature_names_out()\n",
    "feature_names.shape\n",
    "for name in feature_names[80:90]:\n",
    "    print(name)"
   ]
  },
  {
   "cell_type": "code",
   "execution_count": 29,
   "id": "614c9da4",
   "metadata": {},
   "outputs": [],
   "source": [
    "# Split the training data\n",
    "\n",
    "y = new_df['sentiment']\n",
    "\n",
    "X_train, X_test, y_train, y_test = train_test_split(train_data, y, test_size=0.2, random_state=42)"
   ]
  },
  {
   "cell_type": "markdown",
   "id": "1340a52a",
   "metadata": {},
   "source": [
    "## Building Machine Learning Models"
   ]
  },
  {
   "cell_type": "markdown",
   "id": "e527b068",
   "metadata": {},
   "source": [
    "In this section different machine learning models will be trained and compered. The best performing model will be evaluated based on the f1 score, the high the f1 score the better the model perfomance.\n",
    "\n",
    "models that will be trained include:\n",
    "   - Logistic Regression Classifier\n",
    "   - Support Vector Machines\n",
    "   - RandomForestClassifier\n",
    "   - DecisionTreeClassifier"
   ]
  },
  {
   "cell_type": "markdown",
   "id": "f7ffb546",
   "metadata": {},
   "source": [
    "### Logistic Regression Classifier\n",
    "\n",
    "Logistic regression is a fundamental classification technique that belongs to the group of linear classifiers and is similar to polynomial and linear regression. Even though it is a method for binary classification, it can also be applied to multiclass problems by setting multiclass parameter to ovr."
   ]
  },
  {
   "cell_type": "code",
   "execution_count": 30,
   "id": "89d39050",
   "metadata": {},
   "outputs": [],
   "source": [
    "# building logistic regression model\n",
    "\n",
    "logreg = LogisticRegression(multi_class='ovr') # Define the model \n",
    "lr_run_time = %timeit -q -o logreg.fit(X_train, y_train) # fit the data\n",
    "lr_pred = logreg.predict(X_test) # prediction\n",
    "f1score_lr = f1_score(y_test, lr_pred, average= 'macro')\n",
    "# print(classification_report(y_test, y_pred, target_names=['2: News', '1: Pro', '0: Neutral', '-1: Ant']))"
   ]
  },
  {
   "cell_type": "code",
   "execution_count": 31,
   "id": "402ab3d2",
   "metadata": {},
   "outputs": [
    {
     "name": "stdout",
     "output_type": "stream",
     "text": [
      "3.1565453000000048\n",
      "0.7782020917552048\n"
     ]
    }
   ],
   "source": [
    "print(lr_run_time.best)\n",
    "print(f1score_lr)"
   ]
  },
  {
   "cell_type": "markdown",
   "id": "ae84bf6f",
   "metadata": {},
   "source": [
    "### Random Forest Classifier\n",
    "\n",
    "Random forest is a supervised machine learning algorithm that is used widely in Classification and Regression problems. It builds decision trees on different samples and takes their majority vote for classification and average in case of regression."
   ]
  },
  {
   "cell_type": "code",
   "execution_count": 32,
   "id": "QXneVeto2IQp",
   "metadata": {
    "id": "QXneVeto2IQp",
    "scrolled": true
   },
   "outputs": [],
   "source": [
    "# random forest model\n",
    "rf_model = RandomForestClassifier(max_depth=50, random_state=10) # Define the model \n",
    "rf_run_time = %timeit -q -o rf_model.fit(X_train, y_train)\n",
    "rf_pred = rf_model.predict(X_test)\n",
    "f1score_rf = f1_score(y_test, rf_pred, average= 'macro')\n",
    "# print(classification_report(y_test, rf_pred, target_names=['2: News', '1: Pro', '0: Neutral', '-1: Ant']))"
   ]
  },
  {
   "cell_type": "code",
   "execution_count": 33,
   "id": "ba6887af",
   "metadata": {},
   "outputs": [
    {
     "name": "stdout",
     "output_type": "stream",
     "text": [
      "24.6582255\n",
      "0.7710647768627621\n"
     ]
    }
   ],
   "source": [
    "print(rf_run_time.best)\n",
    "print(f1score_rf)"
   ]
  },
  {
   "cell_type": "markdown",
   "id": "e678cb5e",
   "metadata": {},
   "source": [
    "### Decision Tree Classifier\n",
    "\n",
    "Decision Tree is a supervised machine learning algorithm that uses a set of rules to make decisions. It builds a flowchart-like tree structure where each internal node denotes a test on an attribute, each branch represents an outcome of the test, and each leaf node (terminal node) holds a class label."
   ]
  },
  {
   "cell_type": "code",
   "execution_count": 34,
   "id": "cffe488a",
   "metadata": {},
   "outputs": [],
   "source": [
    "# decision tree classifier model\n",
    "\n",
    "tree = DecisionTreeClassifier() # Define the model \n",
    "tree_run_time = %timeit -q -o tree.fit(X_train, y_train)\n",
    "tree_pred = tree.predict(X_test)\n",
    "f1score_tree = f1_score(y_test, tree_pred, average= 'macro')\n",
    "# print(classification_report(y_test, tree_pred, target_names=['2: News', '1: Pro', '0: Neutral', '-1: Ant']))"
   ]
  },
  {
   "cell_type": "code",
   "execution_count": 35,
   "id": "b734ff75",
   "metadata": {},
   "outputs": [
    {
     "name": "stdout",
     "output_type": "stream",
     "text": [
      "5.2831621999999925\n",
      "0.8139426587397934\n"
     ]
    }
   ],
   "source": [
    "print(tree_run_time.best)\n",
    "print(f1score_tree)"
   ]
  },
  {
   "cell_type": "markdown",
   "id": "0bbe1570",
   "metadata": {},
   "source": [
    "### Support Vector Classifier\n",
    "\n",
    "Support vector machines are capable of both linear and non-linear classification and can also be used for regression and anomaly/outlier detection. They work well for wide class of problems but are generally used for problems with small or medium sized data sets."
   ]
  },
  {
   "cell_type": "code",
   "execution_count": 36,
   "id": "e0f4a15a",
   "metadata": {},
   "outputs": [],
   "source": [
    "# grid_svm = svm.SVC(C = 1.0, gamma=2, kernel='rbf')\n",
    "svm_model = svm.SVC()  # Define the model \n",
    "svm_run_time = %timeit -q -o svm_model.fit(X_train,y_train)\n",
    "svm_pred = svm_model.predict(X_test)\n",
    "f1score_svm = f1_score(y_test, svm_pred, average= 'macro')"
   ]
  },
  {
   "cell_type": "code",
   "execution_count": 37,
   "id": "154de75c",
   "metadata": {},
   "outputs": [
    {
     "name": "stdout",
     "output_type": "stream",
     "text": [
      "80.06916449999994\n",
      "0.8747236965046994\n"
     ]
    }
   ],
   "source": [
    "print(svm_run_time.best)\n",
    "print(f1score_svm)"
   ]
  },
  {
   "cell_type": "markdown",
   "id": "044c7ecc",
   "metadata": {},
   "source": [
    "## Compare and choose the best model"
   ]
  },
  {
   "cell_type": "code",
   "execution_count": 59,
   "id": "465b645c",
   "metadata": {},
   "outputs": [],
   "source": [
    "# Create a dictionary for the model names and f1 scores\n",
    "models = {'model_name' : ['Logistic Regression', 'Random Forest', 'Decision tree', 'svm_model'],\n",
    "          'f1_score' : [f1score_lr, f1score_rf, f1score_tree ,f1score_svm,],\n",
    "          'run_time': [lr_run_time.best, rf_run_time.best, tree_run_time.best, svm_run_time.best]\n",
    "         }\n",
    "\n",
    "\n",
    "model_comp_df = pd.DataFrame(models)    # Create a data frame from the dictionary"
   ]
  },
  {
   "cell_type": "code",
   "execution_count": 50,
   "id": "5bc579da",
   "metadata": {},
   "outputs": [
    {
     "data": {
      "text/html": [
       "<div>\n",
       "<style scoped>\n",
       "    .dataframe tbody tr th:only-of-type {\n",
       "        vertical-align: middle;\n",
       "    }\n",
       "\n",
       "    .dataframe tbody tr th {\n",
       "        vertical-align: top;\n",
       "    }\n",
       "\n",
       "    .dataframe thead th {\n",
       "        text-align: right;\n",
       "    }\n",
       "</style>\n",
       "<table border=\"1\" class=\"dataframe\">\n",
       "  <thead>\n",
       "    <tr style=\"text-align: right;\">\n",
       "      <th></th>\n",
       "      <th>f1_score</th>\n",
       "      <th>run_time</th>\n",
       "    </tr>\n",
       "    <tr>\n",
       "      <th>model_name</th>\n",
       "      <th></th>\n",
       "      <th></th>\n",
       "    </tr>\n",
       "  </thead>\n",
       "  <tbody>\n",
       "    <tr>\n",
       "      <th>Logistic Regression</th>\n",
       "      <td>0.778202</td>\n",
       "      <td>3.156545</td>\n",
       "    </tr>\n",
       "    <tr>\n",
       "      <th>Random Forest</th>\n",
       "      <td>0.771065</td>\n",
       "      <td>24.658226</td>\n",
       "    </tr>\n",
       "    <tr>\n",
       "      <th>Decision tree</th>\n",
       "      <td>0.813943</td>\n",
       "      <td>5.283162</td>\n",
       "    </tr>\n",
       "    <tr>\n",
       "      <th>svm_model</th>\n",
       "      <td>0.889299</td>\n",
       "      <td>88.301825</td>\n",
       "    </tr>\n",
       "  </tbody>\n",
       "</table>\n",
       "</div>"
      ],
      "text/plain": [
       "                     f1_score   run_time\n",
       "model_name                              \n",
       "Logistic Regression  0.778202   3.156545\n",
       "Random Forest        0.771065  24.658226\n",
       "Decision tree        0.813943   5.283162\n",
       "svm_model            0.889299  88.301825"
      ]
     },
     "execution_count": 50,
     "metadata": {},
     "output_type": "execute_result"
    }
   ],
   "source": [
    "models = model_comp_df.set_index('model_name')\n",
    "models"
   ]
  },
  {
   "cell_type": "code",
   "execution_count": 51,
   "id": "19c22d8e",
   "metadata": {},
   "outputs": [
    {
     "data": {
      "text/plain": [
       "<AxesSubplot:xlabel='model_name'>"
      ]
     },
     "execution_count": 51,
     "metadata": {},
     "output_type": "execute_result"
    },
    {
     "data": {
      "image/png": "[encoded data removed]",
      "text/plain": [
       "<Figure size 1000x500 with 2 Axes>"
      ]
     },
     "metadata": {},
     "output_type": "display_data"
    }
   ],
   "source": [
    "fig, ax = plt.subplots(1, 2, figsize=(10, 5))\n",
    "models.sort_values('f1_score', ascending=False, inplace=True)\n",
    "models.plot(y=['f1_score'], kind='bar', ax=ax[0], xlim=[0,1.1], ylim=[0.70,0.92])\n",
    "models.plot(y='run_time', kind='bar', ax=ax[1])"
   ]
  },
  {
   "cell_type": "markdown",
   "id": "d9aecf19",
   "metadata": {},
   "source": [
    "Support Vector Model performed better than all the other models with the accuracy score of 87%. However, svm_model takes longer time to execute. SVM performed better with defualt parameters, and tunning the model would increase the accuracy score."
   ]
  },
  {
   "cell_type": "code",
   "execution_count": 42,
   "id": "3caaeee6",
   "metadata": {},
   "outputs": [],
   "source": [
    "# dictionary of the parameters to search for to improve the ML model.\n",
    "parameters = {'C': [0.001, 0.01, 0.1, 1, 10],\n",
    "              'gamma': [0.001, 0.01, 0.1, 1],\n",
    "             }"
   ]
  },
  {
   "cell_type": "code",
   "execution_count": 44,
   "id": "ea9bae93",
   "metadata": {},
   "outputs": [],
   "source": [
    "#GridsearchCV code below commented because it took long to execute"
   ]
  },
  {
   "cell_type": "code",
   "execution_count": 45,
   "id": "c60ac254",
   "metadata": {},
   "outputs": [],
   "source": [
    "# searching for the best parameters to use in the ML model using GridSearchCV\n",
    "# grid_svm = GridSearchCV(svm.SVC(kernel='rbf'), parameters, cv=3)\n",
    "# grid_svm.fit(X_train,y_train)\n",
    "# grid_svm.fit(train_data, new_df['sentiment'])"
   ]
  },
  {
   "cell_type": "code",
   "execution_count": null,
   "id": "0fb7afcd",
   "metadata": {},
   "outputs": [],
   "source": [
    "# get the best parameters \n",
    "# grid_svm.best_params_           # {'C': 1.0, 'gamma': 2, 'kernel': 'rbf'}"
   ]
  },
  {
   "cell_type": "code",
   "execution_count": null,
   "id": "24838749",
   "metadata": {},
   "outputs": [],
   "source": [
    "# svm_pred = grid_svm.predict(X_test)\n",
    "# print(classification_report(y_test, svm_pred, target_names=['2: News', '1: Pro', '0: Neutral', '-1: Ant']))"
   ]
  },
  {
   "cell_type": "code",
   "execution_count": 46,
   "id": "25ed98bb",
   "metadata": {
    "scrolled": true
   },
   "outputs": [
    {
     "name": "stdout",
     "output_type": "stream",
     "text": [
      "              precision    recall  f1-score   support\n",
      "\n",
      "     2: News       0.99      0.94      0.97       851\n",
      "      1: Pro       0.94      0.87      0.90       861\n",
      "  0: Neutral       0.76      0.87      0.81       876\n",
      "     -1: Ant       0.89      0.87      0.88       824\n",
      "\n",
      "    accuracy                           0.89      3412\n",
      "   macro avg       0.89      0.89      0.89      3412\n",
      "weighted avg       0.89      0.89      0.89      3412\n",
      "\n"
     ]
    }
   ],
   "source": [
    "svm_model = svm.SVC(C=1.0, gamma=2, kernel='rbf')  # Define the model \n",
    "svm_run_time = %timeit -q -o svm_model.fit(X_train,y_train)\n",
    "svm_pred = svm_model.predict(X_test)\n",
    "f1score_svm = f1_score(y_test, svm_pred, average= 'macro')\n",
    "print(classification_report(y_test, svm_pred, target_names=['2: News', '1: Pro', '0: Neutral', '-1: Ant']))"
   ]
  },
  {
   "cell_type": "markdown",
   "id": "b347f44c",
   "metadata": {},
   "source": [
    "With the best parameters obtained above, support vector classifier model performed even better with 89% accuracy score."
   ]
  },
  {
   "cell_type": "markdown",
   "id": "85a66691",
   "metadata": {},
   "source": [
    "## Kaggle submission"
   ]
  },
  {
   "cell_type": "code",
   "execution_count": 52,
   "id": "718a97ed",
   "metadata": {},
   "outputs": [],
   "source": [
    "y_pred = svm_model.predict(test_data)"
   ]
  },
  {
   "cell_type": "code",
   "execution_count": 53,
   "id": "dd4407aa",
   "metadata": {
    "scrolled": true
   },
   "outputs": [],
   "source": [
    "submission = pd.DataFrame({'tweetid': test_df['tweetid'], 'sentiment':y_pred})\n",
    "submission.to_csv('submission.csv', index=False)"
   ]
  },
  {
   "cell_type": "code",
   "execution_count": 54,
   "id": "29141e8a",
   "metadata": {},
   "outputs": [
    {
     "data": {
      "text/html": [
       "<div>\n",
       "<style scoped>\n",
       "    .dataframe tbody tr th:only-of-type {\n",
       "        vertical-align: middle;\n",
       "    }\n",
       "\n",
       "    .dataframe tbody tr th {\n",
       "        vertical-align: top;\n",
       "    }\n",
       "\n",
       "    .dataframe thead th {\n",
       "        text-align: right;\n",
       "    }\n",
       "</style>\n",
       "<table border=\"1\" class=\"dataframe\">\n",
       "  <thead>\n",
       "    <tr style=\"text-align: right;\">\n",
       "      <th></th>\n",
       "      <th>tweetid</th>\n",
       "      <th>sentiment</th>\n",
       "    </tr>\n",
       "  </thead>\n",
       "  <tbody>\n",
       "    <tr>\n",
       "      <th>0</th>\n",
       "      <td>169760</td>\n",
       "      <td>1</td>\n",
       "    </tr>\n",
       "    <tr>\n",
       "      <th>1</th>\n",
       "      <td>35326</td>\n",
       "      <td>1</td>\n",
       "    </tr>\n",
       "    <tr>\n",
       "      <th>2</th>\n",
       "      <td>224985</td>\n",
       "      <td>1</td>\n",
       "    </tr>\n",
       "    <tr>\n",
       "      <th>3</th>\n",
       "      <td>476263</td>\n",
       "      <td>1</td>\n",
       "    </tr>\n",
       "    <tr>\n",
       "      <th>4</th>\n",
       "      <td>872928</td>\n",
       "      <td>0</td>\n",
       "    </tr>\n",
       "  </tbody>\n",
       "</table>\n",
       "</div>"
      ],
      "text/plain": [
       "   tweetid  sentiment\n",
       "0   169760          1\n",
       "1    35326          1\n",
       "2   224985          1\n",
       "3   476263          1\n",
       "4   872928          0"
      ]
     },
     "execution_count": 54,
     "metadata": {},
     "output_type": "execute_result"
    }
   ],
   "source": [
    "submission.head()"
   ]
  },
  {
   "cell_type": "markdown",
   "id": "3dc099cd",
   "metadata": {},
   "source": [
    "## Saving a model with Pickle"
   ]
  },
  {
   "cell_type": "code",
   "execution_count": 55,
   "id": "d93cceec",
   "metadata": {},
   "outputs": [],
   "source": [
    "model_save_path = \"svc_model.pkl\"\n",
    "with open(model_save_path,'wb') as file:\n",
    "    pickle.dump(svm_model,file)"
   ]
  },
  {
   "cell_type": "code",
   "execution_count": null,
   "id": "39f3e043",
   "metadata": {},
   "outputs": [],
   "source": []
  }
 ],
 "metadata": {
  "colab": {
   "provenance": []
  },
  "kernelspec": {
   "display_name": "Python 3 (ipykernel)",
   "language": "python",
   "name": "python3"
  },
  "language_info": {
   "codemirror_mode": {
    "name": "ipython",
    "version": 3
   },
   "file_extension": ".py",
   "mimetype": "text/x-python",
   "name": "python",
   "nbconvert_exporter": "python",
   "pygments_lexer": "ipython3",
   "version": "3.9.13"
  }
 },
 "nbformat": 4,
 "nbformat_minor": 5
}
